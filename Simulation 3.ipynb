{
 "cells": [
  {
   "cell_type": "markdown",
   "metadata": {},
   "source": [
    "$$ \\textbf{EE6201 Control Systems} $$\n",
    "\n",
    "$$ \\textbf{Simulation 3} $$\n",
    "\n",
    "$$ \\textbf{Effect of pole distance to impulse and step responses} $$\n",
    "\n",
    "$$ \\text{Prepared by: Güray Gürkan, PhD} $$\n",
    "\n",
    "$$ \\text{May, 2017} $$\n"
   ]
  }
 ],
 "metadata": {
  "kernelspec": {
   "display_name": "Python 2",
   "language": "python",
   "name": "python2"
  },
  "language_info": {
   "codemirror_mode": {
    "name": "ipython",
    "version": 2
   },
   "file_extension": ".py",
   "mimetype": "text/x-python",
   "name": "python",
   "nbconvert_exporter": "python",
   "pygments_lexer": "ipython2",
   "version": "2.7.10"
  }
 },
 "nbformat": 4,
 "nbformat_minor": 0
}
