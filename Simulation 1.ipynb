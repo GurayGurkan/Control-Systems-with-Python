{
 "cells": [
  {
   "cell_type": "markdown",
   "metadata": {},
   "source": [
    "$$ \\textbf{EE0826 Control Systems} $$\n",
    "\n",
    "$$ \\textbf{Simulation 1} $$\n",
    "\n",
    "$$ \\textbf{Generation of continuous-time LTI systems via Python} $$\n",
    "\n",
    "$$ \\text{Prepared by: Güray Gürkan, PhD} $$\n",
    "\n",
    "$$ \\text{Jan, 2019} $$\n"
   ]
  },
  {
   "cell_type": "markdown",
   "metadata": {},
   "source": [
    "### Python modules to be used \n",
    "\n",
    "- Numpy module:\n",
    "\n",
    "For numerical constants, trigonometric functions, arrays\n",
    "\n",
    "- Matplotlib module:\n",
    "\n",
    "Plotting graphs\n",
    "\n",
    "- Control Module:\n",
    "\n",
    "Includes functions for control system transfer function generation, impulse and step response plotting, bode plotting and etc.\n",
    "https://pypi.python.org/pypi/control/0.7.0\n",
    "\n"
   ]
  },
  {
   "cell_type": "markdown",
   "metadata": {},
   "source": [
    "### Polynomial Coefficients vs. Roots\n",
    "\n",
    "A second order polynomial \n",
    "$$ f(x) = x^2-2x -15 $$\n",
    "\n",
    "has the coefficients vector:\n",
    "\n",
    "$$ [1,-2,-15] $$\n",
    "\n",
    "where the coefficients are aranged in descending variable order.\n",
    "\n",
    "This polynomial can also written in terms of its roots:\n",
    "\n",
    "$$ f(x) = (x-5)(x+3) $$\n",
    "\n",
    "Thus, to present a polynomial, one can use two methods:\n",
    "\n",
    "- Coefficients vector\n",
    "- Roots of the polynomial \n",
    "\n",
    "### Example:\n",
    "\n",
    "A fractional polynomial has numerator roots of $ x = -1, 2 $ and denumerator roots of $x=-3,0$. Calculate the coefficient vectors of numerator and denumerator.\n",
    "\n",
    "** Solution: **\n",
    "\n",
    "$$ H(x) = \\frac{(x-2)(x+1)}{x(x+3)}$$\n",
    "\n",
    "$$ H(x) = \\frac{x^2-x-2}{x^2+3x}$$\n",
    "\n",
    "Then, numerator coefficients vector is $ [1,-1,2] $ and denumerator coefficients vector is $ [1, 3,0] $."
   ]
  },
  {
   "cell_type": "markdown",
   "metadata": {},
   "source": [
    "### Numpy module and Polynomials\n",
    "\n",
    "Using numpy module functions of $ poly() $ and $ roots() $, one can calculate a polynomial's coefficients from given roots or vice versa.\n",
    "\n",
    "** $poly()$ function: **\n",
    "- Input : Roots of a polynomial\n",
    "- Output: Vector of coefficients of desceding order\n",
    "\n",
    "** $roots()$ function: **\n",
    "- Input : Vector of coefficients in desceding orders of a variable.\n",
    "- Output: Roots of this polynomial"
   ]
  },
  {
   "cell_type": "markdown",
   "metadata": {},
   "source": [
    "### Example\n",
    "\n",
    "Calculate the polynomial coefficients with the roots $x = -2$ and $x = 3$."
   ]
  },
  {
   "cell_type": "code",
   "execution_count": 10,
   "metadata": {
    "collapsed": false
   },
   "outputs": [
    {
     "name": "stdout",
     "output_type": "stream",
     "text": [
      "\n",
      "*** poly() function usage *** \n",
      "\n",
      "Calculating the coefficients of polynomial  with roots -2 and 3...\n",
      "\n",
      "The command is: \n",
      "\n",
      "    coefficients_vector = np.poly([-2,3]) \n",
      "\n",
      "Coefficients are: [ 1 -1 -6]\n"
     ]
    }
   ],
   "source": [
    "import numpy as np # normally we populate all functions of numpy to workspace\n",
    "\n",
    "coeffs = np.poly([-2, 3])\n",
    "\n",
    "print \"\\n*** poly() function usage *** \\n\"\n",
    "print \"Calculating the coefficients of polynomial  with roots -2 and 3...\"\n",
    "print \"\\nThe command is: \\n\\n    coefficients_vector = np.poly([-2,3]) \\n\"\n",
    "print  \"Coefficients are:\", coeffs"
   ]
  },
  {
   "cell_type": "markdown",
   "metadata": {},
   "source": [
    "### Example\n",
    "\n",
    "Calculate the roots of the polynomial $ f(x) =x^2-x-6$ ."
   ]
  },
  {
   "cell_type": "code",
   "execution_count": 11,
   "metadata": {
    "collapsed": false
   },
   "outputs": [
    {
     "name": "stdout",
     "output_type": "stream",
     "text": [
      "\n",
      "*** root() function usage *** \n",
      "\n",
      "Calculating the roots of polynomial\n",
      "\n",
      "The command is: \n",
      "\n",
      "    roots_vector = np.roots([1,-1,-6]) \n",
      "\n",
      "Roots are: [ 3. -2.]\n"
     ]
    }
   ],
   "source": [
    "roots = np.roots([1,-1,-6])\n",
    "\n",
    "print \"\\n*** root() function usage *** \\n\"\n",
    "print \"Calculating the roots of polynomial\"\n",
    "print \"\\nThe command is: \\n\\n    roots_vector = np.roots([1,-1,-6]) \\n\"\n",
    "print  \"Roots are:\", roots"
   ]
  },
  {
   "cell_type": "markdown",
   "metadata": {},
   "source": [
    "### Control module\n",
    "\n",
    "- Transfer functions can be generated.\n",
    "- Parallel, cascade connections are easily computed.\n",
    "- Time response caused by various inputs (unit impulse, unit step, or, any other vector defined input) can be simulated.\n",
    "- Frequency response can be calculated.\n",
    "- Root locus analysis can be plotted.\n",
    "- State-space systems can be generated."
   ]
  },
  {
   "cell_type": "markdown",
   "metadata": {},
   "source": [
    "### Generation of transfer functions\n",
    "\n",
    " ** Generation using coefficients: $tf() $ function **\n",
    "\n",
    "- Input: numerator and denumerator coefficients are given, as in roots( ) function.\n",
    "\n",
    "- Output: Python class time-frequency variable.\n"
   ]
  },
  {
   "cell_type": "markdown",
   "metadata": {},
   "source": [
    "### Example\n",
    "Given the transfer function\n",
    "$$ G(s) = \\frac{s+4}{s^2+3s+2} $$\n",
    "\n",
    "- calculate zeros and poles of $G(s)$\n",
    "- generate $G(s)$ using $tf()$ function"
   ]
  },
  {
   "cell_type": "markdown",
   "metadata": {},
   "source": [
    "** Solution **:\n",
    "\n",
    "In fractional functions, $b$ is generally used to represent numerator coefficients vector whereas $a$ is used to represent numerator coefficients vector. Then:"
   ]
  },
  {
   "cell_type": "code",
   "execution_count": 20,
   "metadata": {
    "collapsed": false
   },
   "outputs": [
    {
     "name": "stdout",
     "output_type": "stream",
     "text": [
      "Zeros of G(s): [-4.]\n",
      "\n",
      "Poles of G(s): [-2. -1.]\n",
      "\n",
      "Generated function G(s) =  \n",
      "    s + 4\n",
      "-------------\n",
      "s^2 + 3 s + 2\n",
      "\n"
     ]
    }
   ],
   "source": [
    "import control as ctl # this line loads control library\n",
    "b = [1, 4]\n",
    "a = [1, 3, 2]\n",
    "\n",
    "zG = np.roots(b)\n",
    "pG = np.roots(a)\n",
    "\n",
    "G = ctl.tf(b, a)\n",
    "\n",
    "print \"Zeros of G(s):\", zG\n",
    "print \"\\nPoles of G(s):\", pG\n",
    "print \"\\nGenerated function G(s) = \", G"
   ]
  },
  {
   "cell_type": "markdown",
   "metadata": {},
   "source": [
    "** Generation using zero/pole/gain triple: **\n",
    "\n",
    "If zero/pole locations are known, $G(s)$ can be generated using a combination of both $tf( )$ and $poly()$ functions.\n",
    "\n",
    "### Example: \n",
    "We want to generate a system with:\n",
    "\n",
    "- Zeros at s = 0, s = -2,\n",
    "- Poles at s = -3 and s = -5"
   ]
  },
  {
   "cell_type": "code",
   "execution_count": 21,
   "metadata": {
    "collapsed": false
   },
   "outputs": [
    {
     "name": "stdout",
     "output_type": "stream",
     "text": [
      "Zeros at s= [0, -2]\n",
      "Poles at s= [0, -2]\n",
      "G(s) =  \n",
      "   s^2 + 2 s\n",
      "--------------\n",
      "s^2 + 8 s + 15\n",
      "\n"
     ]
    }
   ],
   "source": [
    "# From zero/pole to G(s)\n",
    "z = [0,-2]\n",
    "p = [-3,-5]\n",
    "\n",
    "b = np.poly(z)\n",
    "a = np.poly(p)\n",
    "\n",
    "G = ctl.tf(b,a)\n",
    "\n",
    "print \"Zeros at s=\",z\n",
    "print \"Poles at s=\",z\n",
    "print \"G(s) = \", G"
   ]
  },
  {
   "cell_type": "markdown",
   "metadata": {},
   "source": [
    "### Importance of gain variable (K)\n",
    ".\n",
    "\n",
    "$$ G_1(s) = \\frac{s^2+2s}{s^2+8s+15} $$\n",
    "\n",
    "$$ G_2(s) = \\frac{2s^2+4s}{s^2+8s+15} $$\n",
    "\n",
    "$$ G_3(s) = \\frac{s^2+2s}{4s^2+32s+60} $$\n",
    "\n",
    "The transfer functions given above have all the same zero and pole locations. One can write\n",
    "\n",
    "$$ G_2(s)=2G_1(s) $$ $$G_3(s)=\\frac{G_1(s)}{4} $$\n",
    "\n",
    "Thus, one should use triple of {Zero, Pole, Gain} to fully describe a transfer function.\n",
    "\n",
    "$$ G(s)={Gain} \\frac{Zeros}{Poles}$$"
   ]
  },
  {
   "cell_type": "code",
   "execution_count": null,
   "metadata": {
    "collapsed": true
   },
   "outputs": [],
   "source": []
  }
 ],
 "metadata": {
  "kernelspec": {
   "display_name": "Python 2",
   "language": "python",
   "name": "python2"
  },
  "language_info": {
   "codemirror_mode": {
    "name": "ipython",
    "version": 2
   },
   "file_extension": ".py",
   "mimetype": "text/x-python",
   "name": "python",
   "nbconvert_exporter": "python",
   "pygments_lexer": "ipython2",
   "version": "2.7.10"
  }
 },
 "nbformat": 4,
 "nbformat_minor": 0
}
